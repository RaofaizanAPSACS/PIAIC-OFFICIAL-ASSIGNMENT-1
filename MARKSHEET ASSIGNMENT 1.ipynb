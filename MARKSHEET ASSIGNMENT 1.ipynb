{
 "cells": [
  {
   "cell_type": "code",
   "execution_count": 4,
   "metadata": {},
   "outputs": [
    {
     "name": "stdout",
     "output_type": "stream",
     "text": [
      "enter your math marks:99\n",
      "Enter your urdu marks:89\n",
      "enter your eng marks:90\n",
      "enter your physics marks:80\n",
      "enter your islamiyat marks:46\n",
      "enter your computer marks:75\n",
      "\n",
      "Welcome to your 'Marksheet'\n",
      "Name= Muhammad Faizan\n",
      "\n",
      " math marks =99\n",
      " Urdu marks =89\n",
      " eng marks =90\n",
      " phy marks =80\n",
      " com marks =75\n",
      " isl marks =46\n",
      "\n",
      "# your obtained marks = 479\n",
      "# out of =510\n",
      "# your percentage = 93.92156862745098%\n",
      "# your grade = A+\n",
      "# your performance is 'excellent'\n"
     ]
    }
   ],
   "source": [
    "Math=int(input(\"enter your math marks:\")) # for math subj\n",
    "if Math > 100 or Math < 0:\n",
    "    print(\"error\")\n",
    "Urdu=int(input(\"Enter your urdu marks:\")) # for urdu subj\n",
    "if Urdu > 100 or Urdu <0:\n",
    "    print(\"error\")\n",
    "Eng=int(input(\"enter your eng marks:\")) # for eng subj\n",
    "if Eng > 100 or Eng < 0:\n",
    "    print(\"error\")\n",
    "Phy=int(input(\"enter your physics marks:\")) # for phy subj\n",
    "if Phy >85 or Phy <0:\n",
    "    print(\"error\")\n",
    "Isl=int(input(\"enter your islamiyat marks:\")) # for isl subj\n",
    "if Isl >50 or Isl <0:\n",
    "    print(\"error\")\n",
    "Com=int(input(\"enter your computer marks:\"))# for com subj\n",
    "if Com >75 or Com <0:\n",
    "        print(\"error\")\n",
    "print()\n",
    "print(\"Welcome to your 'Marksheet'\")\n",
    "print(\"Name= Muhammad Faizan\")\n",
    "print()\n",
    "print(\" math marks =\"+str(Math))\n",
    "print(\" Urdu marks =\"+str(Urdu))\n",
    "print(\" eng marks =\"+str(Eng))\n",
    "print(\" phy marks =\"+str(Phy))\n",
    "print(\" com marks =\"+str(Com))\n",
    "print(\" isl marks =\"+str(Isl))\n",
    "print()\n",
    "obt = Math+Urdu+Com+Phy+Eng+Isl\n",
    "print(\"# your obtained marks = \"+str(obt))\n",
    "\n",
    "math=100\n",
    "com=75\n",
    "urdu=100\n",
    "isl=50\n",
    "eng=100\n",
    "phy=85\n",
    "total=math+urdu+com+phy+isl+eng\n",
    "print(\"# out of =\"+str(total))\n",
    "      \n",
    "percentage = (obt/total*100)\n",
    "print(\"# your percentage = \"+ str(percentage)+\"%\")\n",
    "if percentage >= 80:\n",
    "    print(\"# your grade = A+\")\n",
    "    print(\"# your performance is 'excellent'\")\n",
    "elif percentage >= 70:\n",
    "    print(\"# your grade = A\")\n",
    "    print(\"# your performance is 'very good'\")\n",
    "elif percentage >= 60:\n",
    "    print(\"# your grade = B\")\n",
    "    print(\"# your performance is 'good'\")\n",
    "elif percentage >= 50:\n",
    "    print(\"# your grade = C\")\n",
    "    print(\"# your performance is 'bad'\")\n",
    "elif percentage >= 40:\n",
    "    print(\"# your grade = D\")\n",
    "    print(\"# your performance is 'very bad'\")\n",
    "    \n",
    "else:\n",
    "    print(\"you are not cleared!!!!\")\n",
    "    print(\"you should make an improvement in your failed subjects\")\n"
   ]
  },
  {
   "cell_type": "code",
   "execution_count": null,
   "metadata": {},
   "outputs": [],
   "source": []
  },
  {
   "cell_type": "code",
   "execution_count": null,
   "metadata": {},
   "outputs": [],
   "source": []
  },
  {
   "cell_type": "code",
   "execution_count": null,
   "metadata": {},
   "outputs": [],
   "source": []
  }
 ],
 "metadata": {
  "kernelspec": {
   "display_name": "Python 3",
   "language": "python",
   "name": "python3"
  },
  "language_info": {
   "codemirror_mode": {
    "name": "ipython",
    "version": 3
   },
   "file_extension": ".py",
   "mimetype": "text/x-python",
   "name": "python",
   "nbconvert_exporter": "python",
   "pygments_lexer": "ipython3",
   "version": "3.7.3"
  }
 },
 "nbformat": 4,
 "nbformat_minor": 2
}
