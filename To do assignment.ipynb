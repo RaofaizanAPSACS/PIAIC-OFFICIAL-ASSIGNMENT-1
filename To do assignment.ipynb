{
 "cells": [
  {
   "cell_type": "code",
   "execution_count": 1,
   "metadata": {},
   "outputs": [
    {
     "name": "stdout",
     "output_type": "stream",
     "text": [
      "Enter date[dd-mm-yyyy]=8989\n",
      "Enter day=8789\n",
      "\n",
      "Name=Muhammad Faizan\n",
      "\n",
      "your tasks today are : ['awake', 'sehri', 'namaz', 'tilawat', 'sleep', 'iftari', 'tarawe']\n",
      "enter your completed task:awake,sehri,namaz,tilawat,sleep,iftari,tarawe\n",
      "the task is not in the todo list.\n",
      "---- 8989 ----\n",
      "---- 8789 ----\n"
     ]
    }
   ],
   "source": [
    "Date=input(\"Enter date[dd-mm-yyyy]=\")\n",
    "Day=input(\"Enter day=\")\n",
    "print()\n",
    "print(\"Name=Muhammad Faizan\")\n",
    "daily_tasks=[\"awake\",\"sehri\",\"namaz\",\"tilawat\",\"sleep\",\"iftari\",\"tarawe\"]\n",
    "final_task=[]\n",
    "print()\n",
    "print(\"your tasks today are :\",daily_tasks)\n",
    "todo=input(\"enter your completed task:\").lower()\n",
    "\n",
    "if todo in daily_tasks:\n",
    "    index_list=daily_tasks.index(todo)\n",
    "    pop_list=daily_tasks.pop(index_list)\n",
    "    final_task.append(todo)\n",
    "    print(\"your remaining tasks =\",daily_tasks)\n",
    "    print(\"final task =\",final_task)\n",
    "    if len(daily_tasks) == 0:\n",
    "        print(\"now your list is empty\")\n",
    "    else:\n",
    "        print(\"your task is done\")\n",
    "    \n",
    "else:\n",
    "    print(\"the task is not in the todo list.\")\n",
    "\n",
    "print(\"----\",Date,\"----\")\n",
    "print(\"----\",Day,\"----\")"
   ]
  },
  {
   "cell_type": "code",
   "execution_count": null,
   "metadata": {},
   "outputs": [],
   "source": []
  },
  {
   "cell_type": "code",
   "execution_count": null,
   "metadata": {},
   "outputs": [],
   "source": []
  }
 ],
 "metadata": {
  "kernelspec": {
   "display_name": "Python 3",
   "language": "python",
   "name": "python3"
  },
  "language_info": {
   "codemirror_mode": {
    "name": "ipython",
    "version": 3
   },
   "file_extension": ".py",
   "mimetype": "text/x-python",
   "name": "python",
   "nbconvert_exporter": "python",
   "pygments_lexer": "ipython3",
   "version": "3.7.3"
  }
 },
 "nbformat": 4,
 "nbformat_minor": 2
}
